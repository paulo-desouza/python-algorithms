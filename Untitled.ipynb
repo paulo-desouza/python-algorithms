{
 "cells": [
  {
   "cell_type": "code",
   "execution_count": 1,
   "id": "392c06c0",
   "metadata": {},
   "outputs": [],
   "source": [
    "def sum1(n):    #\n",
    "    final_sum = 0\n",
    "\n",
    "    for x in range(n+1):\n",
    "        final_sum += x\n",
    "    \n",
    "    return final_sum"
   ]
  },
  {
   "cell_type": "code",
   "execution_count": 2,
   "id": "6d0bdf5b",
   "metadata": {},
   "outputs": [
    {
     "name": "stdout",
     "output_type": "stream",
     "text": [
      "223 ns ± 9.45 ns per loop (mean ± std. dev. of 7 runs, 1000000 loops each)\n"
     ]
    }
   ],
   "source": [
    "%timeit sum1(5)"
   ]
  },
  {
   "cell_type": "code",
   "execution_count": 3,
   "id": "8ec7aafc",
   "metadata": {},
   "outputs": [],
   "source": [
    "def sum2(n):\n",
    "    return (n*(n+1))/2\n"
   ]
  },
  {
   "cell_type": "code",
   "execution_count": 4,
   "id": "0385188f",
   "metadata": {},
   "outputs": [
    {
     "name": "stdout",
     "output_type": "stream",
     "text": [
      "60 ns ± 0.625 ns per loop (mean ± std. dev. of 7 runs, 10000000 loops each)\n"
     ]
    }
   ],
   "source": [
    "%timeit sum2(5)"
   ]
  },
  {
   "cell_type": "code",
   "execution_count": null,
   "id": "e9a216ec",
   "metadata": {},
   "outputs": [],
   "source": []
  }
 ],
 "metadata": {
  "kernelspec": {
   "display_name": "Python 3 (ipykernel)",
   "language": "python",
   "name": "python3"
  },
  "language_info": {
   "codemirror_mode": {
    "name": "ipython",
    "version": 3
   },
   "file_extension": ".py",
   "mimetype": "text/x-python",
   "name": "python",
   "nbconvert_exporter": "python",
   "pygments_lexer": "ipython3",
   "version": "3.10.6"
  }
 },
 "nbformat": 4,
 "nbformat_minor": 5
}
